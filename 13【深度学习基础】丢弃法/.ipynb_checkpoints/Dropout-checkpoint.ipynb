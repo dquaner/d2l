{
 "cells": [
  {
   "cell_type": "markdown",
   "id": "ce24290c-b1dc-42b1-9610-7b7e5c4a0057",
   "metadata": {},
   "source": [
    "# 暂退法（Dropout）"
   ]
  },
  {
   "cell_type": "code",
   "execution_count": null,
   "id": "a2e99033-ad09-4811-bb3b-cb8b323fc30f",
   "metadata": {},
   "outputs": [],
   "source": []
  }
 ],
 "metadata": {
  "kernelspec": {
   "display_name": "Python 3 (ipykernel)",
   "language": "python",
   "name": "python3"
  },
  "language_info": {
   "codemirror_mode": {
    "name": "ipython",
    "version": 3
   },
   "file_extension": ".py",
   "mimetype": "text/x-python",
   "name": "python",
   "nbconvert_exporter": "python",
   "pygments_lexer": "ipython3",
   "version": "3.11.5"
  }
 },
 "nbformat": 4,
 "nbformat_minor": 5
}
