{
 "cells": [
  {
   "cell_type": "markdown",
   "id": "57a01ac4-1b74-4ba0-9777-5a5aec4f9b63",
   "metadata": {},
   "source": [
    "# 数据操作\n",
    "\n",
    "首先，需要导入 `torch`："
   ]
  },
  {
   "cell_type": "code",
   "execution_count": 1,
   "id": "a8198b81-fd36-4386-bd2a-70df960d45bc",
   "metadata": {},
   "outputs": [],
   "source": [
    "import torch"
   ]
  },
  {
   "cell_type": "markdown",
   "id": "2b396797-2bde-4705-8c71-650e334569f7",
   "metadata": {},
   "source": [
    "## 入门\n",
    "\n",
    "张量表示一个数值组成的数组，这个数组可能有多个维度："
   ]
  },
  {
   "cell_type": "code",
   "execution_count": 2,
   "id": "922ba99a-f60b-429b-87bd-fde2fa2f6b7f",
   "metadata": {},
   "outputs": [
    {
     "data": {
      "text/plain": [
       "tensor([ 0,  1,  2,  3,  4,  5,  6,  7,  8,  9, 10, 11])"
      ]
     },
     "execution_count": 2,
     "metadata": {},
     "output_type": "execute_result"
    }
   ],
   "source": [
    "x = torch.arange(12)\n",
    "x"
   ]
  },
  {
   "cell_type": "markdown",
   "id": "58666c3b-b18a-4c49-9001-e83a6c35150d",
   "metadata": {},
   "source": [
    "访问张量的形状和张量中元素的总数："
   ]
  },
  {
   "cell_type": "code",
   "execution_count": 3,
   "id": "737ed966-4abc-490c-afd2-552f687f574c",
   "metadata": {},
   "outputs": [
    {
     "data": {
      "text/plain": [
       "torch.Size([12])"
      ]
     },
     "execution_count": 3,
     "metadata": {},
     "output_type": "execute_result"
    }
   ],
   "source": [
    "x.shape"
   ]
  },
  {
   "cell_type": "code",
   "execution_count": 4,
   "id": "7f854f42-90c2-4541-b083-78ed502e7407",
   "metadata": {},
   "outputs": [
    {
     "data": {
      "text/plain": [
       "12"
      ]
     },
     "execution_count": 4,
     "metadata": {},
     "output_type": "execute_result"
    }
   ],
   "source": [
    "x.numel()  # num of elements"
   ]
  },
  {
   "cell_type": "markdown",
   "id": "4baa3e32-f8cb-4647-b0d2-870b10b20c3c",
   "metadata": {},
   "source": [
    "改变一个张量的形状而不改变元素数量和元素值："
   ]
  },
  {
   "cell_type": "code",
   "execution_count": 5,
   "id": "38498dbc-c01e-4da4-b19d-e2466a83f031",
   "metadata": {},
   "outputs": [
    {
     "data": {
      "text/plain": [
       "tensor([[ 0,  1,  2,  3],\n",
       "        [ 4,  5,  6,  7],\n",
       "        [ 8,  9, 10, 11]])"
      ]
     },
     "execution_count": 5,
     "metadata": {},
     "output_type": "execute_result"
    }
   ],
   "source": [
    "x = x.reshape(3, 4)\n",
    "x"
   ]
  },
  {
   "cell_type": "markdown",
   "id": "db45634b-3466-48e8-8eb2-dcc5001682ab",
   "metadata": {},
   "source": [
    "使用全0、全1、其他常量或者从特定分布中随机采样的数字："
   ]
  },
  {
   "cell_type": "code",
   "execution_count": 6,
   "id": "f7eadadc-ce65-4590-a1ab-c4b44f66b35c",
   "metadata": {},
   "outputs": [
    {
     "data": {
      "text/plain": [
       "tensor([[[0., 0., 0., 0.],\n",
       "         [0., 0., 0., 0.],\n",
       "         [0., 0., 0., 0.]],\n",
       "\n",
       "        [[0., 0., 0., 0.],\n",
       "         [0., 0., 0., 0.],\n",
       "         [0., 0., 0., 0.]]])"
      ]
     },
     "execution_count": 6,
     "metadata": {},
     "output_type": "execute_result"
    }
   ],
   "source": [
    "torch.zeros((2, 3, 4))"
   ]
  },
  {
   "cell_type": "code",
   "execution_count": 7,
   "id": "d70a7041-36e2-47f5-9917-b399b7672389",
   "metadata": {},
   "outputs": [
    {
     "data": {
      "text/plain": [
       "tensor([[[1., 1., 1., 1.],\n",
       "         [1., 1., 1., 1.],\n",
       "         [1., 1., 1., 1.]],\n",
       "\n",
       "        [[1., 1., 1., 1.],\n",
       "         [1., 1., 1., 1.],\n",
       "         [1., 1., 1., 1.]]])"
      ]
     },
     "execution_count": 7,
     "metadata": {},
     "output_type": "execute_result"
    }
   ],
   "source": [
    "torch.ones((2, 3, 4))"
   ]
  },
  {
   "cell_type": "code",
   "execution_count": 8,
   "id": "f6987b5f-43b0-40bc-8c16-93f05459221a",
   "metadata": {},
   "outputs": [
    {
     "data": {
      "text/plain": [
       "tensor([[ 1.4131,  0.8662, -1.1007, -1.9137],\n",
       "        [-0.8091,  0.4726,  0.3228,  1.0083],\n",
       "        [ 0.2371, -0.7910, -1.1677, -0.5826]])"
      ]
     },
     "execution_count": 8,
     "metadata": {},
     "output_type": "execute_result"
    }
   ],
   "source": [
    "torch.randn(3, 4)"
   ]
  },
  {
   "cell_type": "markdown",
   "id": "146eb994-db7c-4f1c-9988-cb9085997999",
   "metadata": {},
   "source": [
    "通过提供包含数值的 Python 列表（或嵌套列表）来为张量中的每个元素赋予确定值："
   ]
  },
  {
   "cell_type": "code",
   "execution_count": 9,
   "id": "69ada0d7-3d74-4c00-bb06-907bdc761db9",
   "metadata": {},
   "outputs": [
    {
     "data": {
      "text/plain": [
       "tensor([[[2, 1, 4, 3],\n",
       "         [1, 2, 3, 4],\n",
       "         [4, 3, 2, 1]]])"
      ]
     },
     "execution_count": 9,
     "metadata": {},
     "output_type": "execute_result"
    }
   ],
   "source": [
    "x = torch.tensor([[[2, 1, 4, 3], [1, 2, 3, 4], [4, 3, 2, 1]]])\n",
    "x"
   ]
  },
  {
   "cell_type": "code",
   "execution_count": 10,
   "id": "1e70cc20-e4ed-4f03-a1c0-f8f800fab03d",
   "metadata": {},
   "outputs": [
    {
     "data": {
      "text/plain": [
       "torch.Size([1, 3, 4])"
      ]
     },
     "execution_count": 10,
     "metadata": {},
     "output_type": "execute_result"
    }
   ],
   "source": [
    "x.shape"
   ]
  },
  {
   "cell_type": "code",
   "execution_count": 11,
   "id": "62c05eb0-a50c-403f-ac05-ac02e2fd3466",
   "metadata": {},
   "outputs": [
    {
     "data": {
      "text/plain": [
       "12"
      ]
     },
     "execution_count": 11,
     "metadata": {},
     "output_type": "execute_result"
    }
   ],
   "source": [
    "x.numel()"
   ]
  },
  {
   "cell_type": "markdown",
   "id": "5a92857c-8bfb-40ad-9724-bab5f777aa16",
   "metadata": {},
   "source": [
    "## 运算符"
   ]
  },
  {
   "cell_type": "markdown",
   "id": "56126019-cfb7-4f8c-95dc-d18fee4976ed",
   "metadata": {},
   "source": [
    "常见的标准算术运算符："
   ]
  },
  {
   "cell_type": "code",
   "execution_count": 12,
   "id": "0bbfd673-9e13-4f42-8f44-55fc873ed316",
   "metadata": {},
   "outputs": [
    {
     "data": {
      "text/plain": [
       "(tensor([ 3.,  4.,  6., 10.]),\n",
       " tensor([-1.,  0.,  2.,  6.]),\n",
       " tensor([ 2.,  4.,  8., 16.]),\n",
       " tensor([0.5000, 1.0000, 2.0000, 4.0000]),\n",
       " tensor([ 1.,  4., 16., 64.]))"
      ]
     },
     "execution_count": 12,
     "metadata": {},
     "output_type": "execute_result"
    }
   ],
   "source": [
    "x = torch.tensor([1.0, 2, 4, 8])\n",
    "y = torch.tensor([2, 2, 2, 2])\n",
    "x + y, x - y, x * y, x / y, x ** y  # ** 运算符是求幂运算"
   ]
  },
  {
   "cell_type": "markdown",
   "id": "601f742e-b99e-4c80-9755-d4ac023ba89e",
   "metadata": {},
   "source": [
    "按元素方式应用更多的计算："
   ]
  },
  {
   "cell_type": "code",
   "execution_count": 13,
   "id": "21fcf986-e4c5-40ce-bffb-87222d864b2b",
   "metadata": {},
   "outputs": [
    {
     "data": {
      "text/plain": [
       "tensor([2.7183e+00, 7.3891e+00, 5.4598e+01, 2.9810e+03])"
      ]
     },
     "execution_count": 13,
     "metadata": {},
     "output_type": "execute_result"
    }
   ],
   "source": [
    "torch.exp(x)"
   ]
  },
  {
   "cell_type": "markdown",
   "id": "13a44e88-4948-433a-8548-c7acdcdffeba",
   "metadata": {},
   "source": [
    "把多个张量连结在一起："
   ]
  },
  {
   "cell_type": "code",
   "execution_count": 14,
   "id": "f1b991c8-7bc6-4d42-8d6d-608487f95c91",
   "metadata": {},
   "outputs": [
    {
     "data": {
      "text/plain": [
       "(tensor([[ 0.,  1.,  2.,  3.],\n",
       "         [ 4.,  5.,  6.,  7.],\n",
       "         [ 8.,  9., 10., 11.]]),\n",
       " tensor([[2., 1., 4., 3.],\n",
       "         [1., 2., 3., 4.],\n",
       "         [4., 3., 2., 1.]]))"
      ]
     },
     "execution_count": 14,
     "metadata": {},
     "output_type": "execute_result"
    }
   ],
   "source": [
    "X = torch.arange(12, dtype=torch.float32).reshape(3, 4)\n",
    "Y = torch.tensor([[2.0, 1, 4, 3], [1, 2, 3, 4], [4, 3, 2, 1]])\n",
    "X, Y"
   ]
  },
  {
   "cell_type": "code",
   "execution_count": 15,
   "id": "bdadf2a2-746b-4c55-8cf3-ed8adaf0c50e",
   "metadata": {},
   "outputs": [
    {
     "data": {
      "text/plain": [
       "tensor([[ 0.,  1.,  2.,  3.],\n",
       "        [ 4.,  5.,  6.,  7.],\n",
       "        [ 8.,  9., 10., 11.],\n",
       "        [ 2.,  1.,  4.,  3.],\n",
       "        [ 1.,  2.,  3.,  4.],\n",
       "        [ 4.,  3.,  2.,  1.]])"
      ]
     },
     "execution_count": 15,
     "metadata": {},
     "output_type": "execute_result"
    }
   ],
   "source": [
    "torch.cat((X, Y), dim=0)  # 在第 0 维（行）合并"
   ]
  },
  {
   "cell_type": "code",
   "execution_count": 16,
   "id": "723e6170-ca1e-44d7-8c6e-0a7019255f39",
   "metadata": {},
   "outputs": [
    {
     "data": {
      "text/plain": [
       "tensor([[ 0.,  1.,  2.,  3.,  2.,  1.,  4.,  3.],\n",
       "        [ 4.,  5.,  6.,  7.,  1.,  2.,  3.,  4.],\n",
       "        [ 8.,  9., 10., 11.,  4.,  3.,  2.,  1.]])"
      ]
     },
     "execution_count": 16,
     "metadata": {},
     "output_type": "execute_result"
    }
   ],
   "source": [
    "torch.cat((X, Y), dim=1)  # 在第 1 维（列）合并"
   ]
  },
  {
   "cell_type": "markdown",
   "id": "084a55b4-f9f8-4bb5-820c-06114b94223e",
   "metadata": {},
   "source": [
    "通过逻辑运算符构建二元张量："
   ]
  },
  {
   "cell_type": "code",
   "execution_count": 17,
   "id": "d27e2626-bbc7-4afa-9273-ca11d548f741",
   "metadata": {},
   "outputs": [
    {
     "data": {
      "text/plain": [
       "tensor([[False,  True, False,  True],\n",
       "        [False, False, False, False],\n",
       "        [False, False, False, False]])"
      ]
     },
     "execution_count": 17,
     "metadata": {},
     "output_type": "execute_result"
    }
   ],
   "source": [
    "X == Y"
   ]
  },
  {
   "cell_type": "code",
   "execution_count": 18,
   "id": "e0a71247-560d-45b7-889f-4d1d2db29937",
   "metadata": {},
   "outputs": [
    {
     "data": {
      "text/plain": [
       "tensor([[False, False, False, False],\n",
       "        [ True,  True,  True,  True],\n",
       "        [ True,  True,  True,  True]])"
      ]
     },
     "execution_count": 18,
     "metadata": {},
     "output_type": "execute_result"
    }
   ],
   "source": [
    "X > Y"
   ]
  },
  {
   "cell_type": "code",
   "execution_count": 19,
   "id": "9d45e45a-2b1a-4a4f-9dab-28eee7f8a387",
   "metadata": {},
   "outputs": [
    {
     "data": {
      "text/plain": [
       "tensor([[ True, False,  True, False],\n",
       "        [False, False, False, False],\n",
       "        [False, False, False, False]])"
      ]
     },
     "execution_count": 19,
     "metadata": {},
     "output_type": "execute_result"
    }
   ],
   "source": [
    "X < Y"
   ]
  },
  {
   "cell_type": "markdown",
   "id": "2b40c963-8439-4193-bd98-b2e2a5f02f01",
   "metadata": {},
   "source": [
    "对张量中所有元素进行求和会产生一个只有一个元素的张量："
   ]
  },
  {
   "cell_type": "code",
   "execution_count": 20,
   "id": "16e41c55-7965-4c24-ab37-a579c9ebbb92",
   "metadata": {},
   "outputs": [
    {
     "data": {
      "text/plain": [
       "tensor(66.)"
      ]
     },
     "execution_count": 20,
     "metadata": {},
     "output_type": "execute_result"
    }
   ],
   "source": [
    "X.sum()"
   ]
  },
  {
   "cell_type": "markdown",
   "id": "6cb13614-eb71-49d7-80c3-bd20cc8b9932",
   "metadata": {},
   "source": [
    "## 广播机制\n",
    "\n",
    "即使形状不同，我们仍然可以通过调用广播机制（broadcasting mechanism）来执行按元素操作："
   ]
  },
  {
   "cell_type": "code",
   "execution_count": 21,
   "id": "544ddeff-fbae-42f4-9cd1-f535ca2016b4",
   "metadata": {},
   "outputs": [
    {
     "data": {
      "text/plain": [
       "(tensor([[0],\n",
       "         [1],\n",
       "         [2]]),\n",
       " tensor([[0, 1]]))"
      ]
     },
     "execution_count": 21,
     "metadata": {},
     "output_type": "execute_result"
    }
   ],
   "source": [
    "a = torch.arange(3).reshape((3, 1))\n",
    "b = torch.arange(2).reshape((1, 2))\n",
    "a, b"
   ]
  },
  {
   "cell_type": "code",
   "execution_count": 22,
   "id": "2695fd92-a6a4-4af7-8f16-e317500b7a25",
   "metadata": {},
   "outputs": [
    {
     "data": {
      "text/plain": [
       "tensor([[0, 1],\n",
       "        [1, 2],\n",
       "        [2, 3]])"
      ]
     },
     "execution_count": 22,
     "metadata": {},
     "output_type": "execute_result"
    }
   ],
   "source": [
    "a + b"
   ]
  },
  {
   "cell_type": "code",
   "execution_count": 23,
   "id": "fe866b3e-2fd8-471c-964f-571c13c01c8d",
   "metadata": {},
   "outputs": [
    {
     "name": "stdout",
     "output_type": "stream",
     "text": [
      "torch.Size([3, 1])\n",
      "torch.Size([1, 2])\n",
      "torch.Size([3, 2])\n"
     ]
    }
   ],
   "source": [
    "print(a.shape)\n",
    "print(b.shape)\n",
    "print((a + b).shape)"
   ]
  },
  {
   "cell_type": "code",
   "execution_count": 24,
   "id": "b36a8291-03e7-49ae-8932-0dd45e7460d2",
   "metadata": {},
   "outputs": [
    {
     "data": {
      "text/plain": [
       "(tensor([[[0, 1, 2],\n",
       "          [3, 4, 5]]]),\n",
       " tensor([[[0],\n",
       "          [1]],\n",
       " \n",
       "         [[2],\n",
       "          [3]]]))"
      ]
     },
     "execution_count": 24,
     "metadata": {},
     "output_type": "execute_result"
    }
   ],
   "source": [
    "a = torch.arange(6).reshape((1, 2, 3))\n",
    "b = torch.arange(4).reshape((2, 2, 1))\n",
    "a, b"
   ]
  },
  {
   "cell_type": "code",
   "execution_count": 25,
   "id": "f55a9b34-64cf-449a-90bb-c1ecb15366ef",
   "metadata": {},
   "outputs": [
    {
     "data": {
      "text/plain": [
       "tensor([[[0, 1, 2],\n",
       "         [4, 5, 6]],\n",
       "\n",
       "        [[2, 3, 4],\n",
       "         [6, 7, 8]]])"
      ]
     },
     "execution_count": 25,
     "metadata": {},
     "output_type": "execute_result"
    }
   ],
   "source": [
    "a + b"
   ]
  },
  {
   "cell_type": "code",
   "execution_count": 26,
   "id": "28afa804-c105-44e1-98d6-ba4032511ea1",
   "metadata": {},
   "outputs": [
    {
     "name": "stdout",
     "output_type": "stream",
     "text": [
      "torch.Size([1, 2, 3])\n",
      "torch.Size([2, 2, 1])\n",
      "torch.Size([2, 2, 3])\n"
     ]
    }
   ],
   "source": [
    "print(a.shape)\n",
    "print(b.shape)\n",
    "print((a + b).shape)"
   ]
  },
  {
   "cell_type": "markdown",
   "id": "3b5aed81-e5bc-4011-9e2f-ecf6fd04530d",
   "metadata": {},
   "source": [
    "## 索引和切片"
   ]
  },
  {
   "cell_type": "code",
   "execution_count": 27,
   "id": "9fc27ea4-6386-4db7-a588-3ed74c35a8f7",
   "metadata": {},
   "outputs": [
    {
     "data": {
      "text/plain": [
       "tensor([[ 0.,  1.,  2.,  3.],\n",
       "        [ 4.,  5.,  6.,  7.],\n",
       "        [ 8.,  9., 10., 11.]])"
      ]
     },
     "execution_count": 27,
     "metadata": {},
     "output_type": "execute_result"
    }
   ],
   "source": [
    "X"
   ]
  },
  {
   "cell_type": "code",
   "execution_count": 28,
   "id": "9288dccf-6b22-4240-bd14-25bec66d70a5",
   "metadata": {},
   "outputs": [
    {
     "data": {
      "text/plain": [
       "(tensor([ 8.,  9., 10., 11.]),\n",
       " tensor([[ 4.,  5.,  6.,  7.],\n",
       "         [ 8.,  9., 10., 11.]]))"
      ]
     },
     "execution_count": 28,
     "metadata": {},
     "output_type": "execute_result"
    }
   ],
   "source": [
    "X[-1], X[1:3]"
   ]
  },
  {
   "cell_type": "markdown",
   "id": "87724bac-23bb-4636-8d9e-8e48fa521eda",
   "metadata": {},
   "source": [
    "通过指定索引来将元素写入矩阵："
   ]
  },
  {
   "cell_type": "code",
   "execution_count": 29,
   "id": "392769ca-823d-437c-8bd7-072cf0332d06",
   "metadata": {},
   "outputs": [
    {
     "data": {
      "text/plain": [
       "tensor([[ 0.,  1.,  2.,  3.],\n",
       "        [ 4.,  5.,  9.,  7.],\n",
       "        [ 8.,  9., 10., 11.]])"
      ]
     },
     "execution_count": 29,
     "metadata": {},
     "output_type": "execute_result"
    }
   ],
   "source": [
    "X[1, 2] = 9\n",
    "X"
   ]
  },
  {
   "cell_type": "markdown",
   "id": "88648c14-6585-4afc-9cce-6a12964dc516",
   "metadata": {},
   "source": [
    "为多个元素赋相同的值（按区域赋值）："
   ]
  },
  {
   "cell_type": "code",
   "execution_count": 30,
   "id": "5f8626b8-dd91-423d-ab74-a252ae91024b",
   "metadata": {},
   "outputs": [
    {
     "data": {
      "text/plain": [
       "tensor([[12., 12., 12., 12.],\n",
       "        [12., 12., 12., 12.],\n",
       "        [ 8.,  9., 10., 11.]])"
      ]
     },
     "execution_count": 30,
     "metadata": {},
     "output_type": "execute_result"
    }
   ],
   "source": [
    "X[0:2, :] = 12\n",
    "X"
   ]
  },
  {
   "cell_type": "markdown",
   "id": "38eb71fc-680e-4a79-bcd9-b33db61aabc5",
   "metadata": {},
   "source": [
    "## 节省内存\n",
    "\n",
    "运行一些操作可能会导致为新结果分配内存："
   ]
  },
  {
   "cell_type": "code",
   "execution_count": 31,
   "id": "88d54802-0c3b-43b3-ab09-61de958eb1c2",
   "metadata": {},
   "outputs": [
    {
     "data": {
      "text/plain": [
       "False"
      ]
     },
     "execution_count": 31,
     "metadata": {},
     "output_type": "execute_result"
    }
   ],
   "source": [
    "before = id(Y)\n",
    "Y = Y + X\n",
    "id(Y) == before"
   ]
  },
  {
   "cell_type": "markdown",
   "id": "eb008058-f3fd-4273-a894-ed280f09d048",
   "metadata": {},
   "source": [
    "执行原地操作："
   ]
  },
  {
   "cell_type": "code",
   "execution_count": 32,
   "id": "72611cb8-f72d-4d17-a126-d0edd25240b6",
   "metadata": {},
   "outputs": [
    {
     "name": "stdout",
     "output_type": "stream",
     "text": [
      "id(Z): 4903843312\n",
      "id(Z): 4903843312\n"
     ]
    }
   ],
   "source": [
    "Z = torch.zeros_like(Y)\n",
    "print('id(Z):', id(Z))\n",
    "Z[:] = X + Y\n",
    "print('id(Z):', id(Z))"
   ]
  },
  {
   "cell_type": "markdown",
   "id": "e28634ec-c690-4c5d-80bf-9b1b2c0fb459",
   "metadata": {},
   "source": [
    "如果在后续计算中没有重复使用 `X`，我们也可以使用 `X[:] = X + Y` 或 `X += Y` 来减少操作的内存开销："
   ]
  },
  {
   "cell_type": "code",
   "execution_count": 33,
   "id": "3b1b1fed-f863-4680-a9fc-6590d2dcdc5c",
   "metadata": {},
   "outputs": [
    {
     "data": {
      "text/plain": [
       "True"
      ]
     },
     "execution_count": 33,
     "metadata": {},
     "output_type": "execute_result"
    }
   ],
   "source": [
    "before = id(X)\n",
    "X += Y\n",
    "id(X) == before"
   ]
  },
  {
   "cell_type": "markdown",
   "id": "9ca61fb6-2f11-4199-b627-4370c1af90a3",
   "metadata": {},
   "source": [
    "## 转换成其他 Python 对象\n",
    "\n",
    "转换成 Numpy 张量："
   ]
  },
  {
   "cell_type": "code",
   "execution_count": 34,
   "id": "e595123d-100d-4ac4-ba7f-516c3c45dd93",
   "metadata": {},
   "outputs": [
    {
     "data": {
      "text/plain": [
       "(numpy.ndarray, torch.Tensor)"
      ]
     },
     "execution_count": 34,
     "metadata": {},
     "output_type": "execute_result"
    }
   ],
   "source": [
    "A = X.numpy()\n",
    "B = torch.tensor(A)\n",
    "type(A), type(B)"
   ]
  },
  {
   "cell_type": "markdown",
   "id": "c0c866a1-2912-48bc-a654-3074188ab2f2",
   "metadata": {},
   "source": [
    "将大小为 1 的张量转换为 Python 标量："
   ]
  },
  {
   "cell_type": "code",
   "execution_count": 35,
   "id": "4eee31fa-9516-4844-bfe9-d412b9d53615",
   "metadata": {},
   "outputs": [
    {
     "data": {
      "text/plain": [
       "(tensor([3.5000]), 3.5, 3.5, 3)"
      ]
     },
     "execution_count": 35,
     "metadata": {},
     "output_type": "execute_result"
    }
   ],
   "source": [
    "a = torch.tensor([3.5])\n",
    "a, a.item(), float(a), int(a)"
   ]
  },
  {
   "cell_type": "code",
   "execution_count": null,
   "id": "b89e7890-ceb4-43e3-8a08-149a8956c01b",
   "metadata": {},
   "outputs": [],
   "source": []
  }
 ],
 "metadata": {
  "kernelspec": {
   "display_name": "Python 3 (ipykernel)",
   "language": "python",
   "name": "python3"
  },
  "language_info": {
   "codemirror_mode": {
    "name": "ipython",
    "version": 3
   },
   "file_extension": ".py",
   "mimetype": "text/x-python",
   "name": "python",
   "nbconvert_exporter": "python",
   "pygments_lexer": "ipython3",
   "version": "3.11.5"
  }
 },
 "nbformat": 4,
 "nbformat_minor": 5
}
