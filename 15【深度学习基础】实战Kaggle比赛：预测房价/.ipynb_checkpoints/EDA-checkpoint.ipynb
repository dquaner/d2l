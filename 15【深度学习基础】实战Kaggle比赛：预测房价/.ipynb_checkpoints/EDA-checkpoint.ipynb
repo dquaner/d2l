{
 "cells": [
  {
   "cell_type": "markdown",
   "id": "c00c86a0-07bf-4a20-84fa-f5693e177ece",
   "metadata": {},
   "source": [
    "# EDA House Prices"
   ]
  },
  {
   "cell_type": "code",
   "execution_count": null,
   "id": "6f3e3046-6be1-4e3b-95e7-80bb86d78f8c",
   "metadata": {},
   "outputs": [],
   "source": []
  }
 ],
 "metadata": {
  "kernelspec": {
   "display_name": "Python 3 (ipykernel)",
   "language": "python",
   "name": "python3"
  },
  "language_info": {
   "codemirror_mode": {
    "name": "ipython",
    "version": 3
   },
   "file_extension": ".py",
   "mimetype": "text/x-python",
   "name": "python",
   "nbconvert_exporter": "python",
   "pygments_lexer": "ipython3",
   "version": "3.11.5"
  }
 },
 "nbformat": 4,
 "nbformat_minor": 5
}
