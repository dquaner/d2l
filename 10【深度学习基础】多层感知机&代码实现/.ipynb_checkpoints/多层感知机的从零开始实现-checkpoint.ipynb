{
 "cells": [
  {
   "cell_type": "markdown",
   "id": "36373a9a-47f5-45ef-b355-338e25b4ce05",
   "metadata": {},
   "source": [
    "# 多层感知机的从零开始实现"
   ]
  },
  {
   "cell_type": "code",
   "execution_count": 2,
   "id": "0af2fd68-6d2b-4e51-a8d7-9a1eb4ec423a",
   "metadata": {},
   "outputs": [],
   "source": [
    "import torch\n",
    "from torch import nn\n",
    "from d2l import torch as d2l\n",
    "\n",
    "batch_size = 256\n",
    "train_iter, test_iter = d2l.load_data_fashion_mnist(batch_size)"
   ]
  },
  {
   "cell_type": "markdown",
   "id": "bb21bb7b-eae8-4b35-a2ad-72926a7d548a",
   "metadata": {},
   "source": [
    "## 1. 初始化模型参数\n",
    "\n",
    "实现一个具有单隐藏层的多层感知机，它包含 256 个隐藏单元："
   ]
  },
  {
   "cell_type": "code",
   "execution_count": 3,
   "id": "9f47776e-bc2c-4d32-9d79-a5a9706d3141",
   "metadata": {},
   "outputs": [],
   "source": [
    "num_inputs, num_outputs, num_hiddens = 784, 10, 256\n",
    "\n",
    "W1 = nn.Parameter(torch.randn(num_inputs, num_hiddens, requires_grad=True) * 0.01)\n",
    "b1 = nn.Parameter(torch.zeros(num_hiddens, requires_grad=True))\n",
    "W2 = nn.Parameter(torch.randn(num_hiddens, num_outputs, requires_grad=True) * 0.01)\n",
    "b2 = nn.Parameter(torch.zeros(num_outputs, requires_grad=True))\n",
    "\n",
    "params = [W1, b1, W2, b2]"
   ]
  },
  {
   "cell_type": "markdown",
   "id": "a3341bf1-02dc-407e-9459-ab768c3b3323",
   "metadata": {},
   "source": [
    "## 2. 激活函数\n",
    "\n",
    "实现 ReLU 激活函数："
   ]
  },
  {
   "cell_type": "code",
   "execution_count": 4,
   "id": "57166c5c-8abd-4897-b524-0900c16967ac",
   "metadata": {},
   "outputs": [],
   "source": [
    "def relu(X):\n",
    "    a = torch.zeros_like(X)\n",
    "    return torch.max(X, a)"
   ]
  },
  {
   "cell_type": "markdown",
   "id": "ea7ca098-9dcd-4272-b275-0e95d0af0602",
   "metadata": {},
   "source": [
    "## 3. 模型"
   ]
  },
  {
   "cell_type": "code",
   "execution_count": 5,
   "id": "a19fb59d-3cfa-4a5e-8b2a-bb382f91d429",
   "metadata": {},
   "outputs": [],
   "source": [
    "def net(X):\n",
    "    X = X.reshape((-1, num_inputs))\n",
    "    H = relu(X@W1 + b1)  #这里“@”代表矩阵乘法\n",
    "    return (H@W2 + b2)"
   ]
  },
  {
   "cell_type": "markdown",
   "id": "e54b06fc-310f-4939-940a-8d867420d0ca",
   "metadata": {},
   "source": [
    "## 4. 损失函数"
   ]
  },
  {
   "cell_type": "code",
   "execution_count": 6,
   "id": "92598c6d-2fd7-4b31-b5b2-fccff9c51bed",
   "metadata": {},
   "outputs": [],
   "source": [
    "loss = nn.CrossEntropyLoss(reduction='none')"
   ]
  },
  {
   "cell_type": "markdown",
   "id": "e5801a23-1b8a-4e57-b65b-3b1431c9fcbf",
   "metadata": {},
   "source": [
    "## 5. 训练\n",
    "\n",
    "多层感知机的训练过程与 softmax 回归的训练过程完全相同："
   ]
  },
  {
   "cell_type": "code",
   "execution_count": null,
   "id": "1859eabf-4fe4-4eb4-a002-275ea33353da",
   "metadata": {},
   "outputs": [],
   "source": [
    "num_epochs, lr = 10, 0.1\n",
    "updater = torch.optim.SGD(params, lr=lr)\n"
   ]
  }
 ],
 "metadata": {
  "kernelspec": {
   "display_name": "Python 3 (ipykernel)",
   "language": "python",
   "name": "python3"
  },
  "language_info": {
   "codemirror_mode": {
    "name": "ipython",
    "version": 3
   },
   "file_extension": ".py",
   "mimetype": "text/x-python",
   "name": "python",
   "nbconvert_exporter": "python",
   "pygments_lexer": "ipython3",
   "version": "3.11.5"
  }
 },
 "nbformat": 4,
 "nbformat_minor": 5
}
