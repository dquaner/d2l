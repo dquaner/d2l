{
 "cells": [
  {
   "cell_type": "markdown",
   "id": "7d4dc903-7cd6-45c8-ac2b-40ba45cbfe9b",
   "metadata": {},
   "source": [
    "# DataFrame\n",
    "\n",
    "## 构造器\n",
    "\n",
    "```python\n",
    "'''\n",
    "表示二维、大小可变、可以异构的表格数据\n",
    "'''\n",
    "pandas.DataFrame(data, index, columns, dtype, copy)\n",
    "```"
   ]
  },
  {
   "cell_type": "code",
   "execution_count": 33,
   "id": "f1f5e382-ab79-4d4e-a77c-d3c7fb28032d",
   "metadata": {},
   "outputs": [],
   "source": [
    "import pandas as pd\n",
    "import numpy as np\n",
    "import io"
   ]
  },
  {
   "cell_type": "code",
   "execution_count": 9,
   "id": "fad75937-4121-4bd3-a0ce-843d2d230a64",
   "metadata": {},
   "outputs": [
    {
     "name": "stdout",
     "output_type": "stream",
     "text": [
      "------- Constructing DataFrame from a dictionary -------\n",
      "   col1  col2\n",
      "0     1     3\n",
      "1     2     4\n",
      "\n",
      "------- Constructing DataFrame from numpy ndarray -------\n",
      "   x   y   z\n",
      "a  0   1   2\n",
      "b  3   4   5\n",
      "c  6   7   8\n",
      "d  9  10  11\n"
     ]
    },
    {
     "data": {
      "text/plain": [
       "x    int8\n",
       "y    int8\n",
       "z    int8\n",
       "dtype: object"
      ]
     },
     "execution_count": 9,
     "metadata": {},
     "output_type": "execute_result"
    }
   ],
   "source": [
    "print('------- Constructing DataFrame from a dictionary -------')\n",
    "d = {'col1': [1, 2], 'col2': [3, 4]}\n",
    "df = pd.DataFrame(data=d)\n",
    "print(df)\n",
    "\n",
    "print('\\n------- Constructing DataFrame from numpy ndarray -------')\n",
    "d = np.arange(12).reshape((4, 3))\n",
    "df = pd.DataFrame(data=d, index=['a', 'b', 'c', 'd'], columns=['x', 'y', 'z'], dtype=np.int8)\n",
    "print(df)\n",
    "df.dtypes"
   ]
  },
  {
   "cell_type": "markdown",
   "id": "58b6a412-b980-4720-aacf-bebb1801a14e",
   "metadata": {},
   "source": [
    "## 属性和基础数据\n",
    "\n",
    "```python\n",
    "'''\n",
    "Dataframe 的属性\n",
    "'''\n",
    "DataFrame.index\n",
    "DataFrame.columns\n",
    "DataFrame.dtypes\n",
    "DataFrame.values  # 以 Numpy 格式返回 DataFrame 的值\n",
    "DataFrame.axes\n",
    "DataFrame.ndim  # DataFrame 轴的个数或数组的维度\n",
    "DataFrame.size  # DataFrame 中元素的个数\n",
    "DataFrame.shape\n",
    "DataFrame.empty\n",
    "```"
   ]
  },
  {
   "cell_type": "code",
   "execution_count": 19,
   "id": "f162b547-2702-4c17-81c8-df39f04bcda6",
   "metadata": {},
   "outputs": [
    {
     "data": {
      "text/plain": [
       "(Index(['a', 'b', 'c', 'd'], dtype='object'),\n",
       " Index(['x', 'y', 'z'], dtype='object'))"
      ]
     },
     "execution_count": 19,
     "metadata": {},
     "output_type": "execute_result"
    }
   ],
   "source": [
    "(df.index, df.columns)"
   ]
  },
  {
   "cell_type": "code",
   "execution_count": 13,
   "id": "c29a1569-a861-4ca6-800c-dba93bee8955",
   "metadata": {},
   "outputs": [
    {
     "data": {
      "text/plain": [
       "x    int8\n",
       "y    int8\n",
       "z    int8\n",
       "dtype: object"
      ]
     },
     "execution_count": 13,
     "metadata": {},
     "output_type": "execute_result"
    }
   ],
   "source": [
    "df.dtypes"
   ]
  },
  {
   "cell_type": "code",
   "execution_count": 14,
   "id": "d17023f3-7c3d-4437-aaf3-257679b17093",
   "metadata": {},
   "outputs": [
    {
     "data": {
      "text/plain": [
       "array([[ 0,  1,  2],\n",
       "       [ 3,  4,  5],\n",
       "       [ 6,  7,  8],\n",
       "       [ 9, 10, 11]], dtype=int8)"
      ]
     },
     "execution_count": 14,
     "metadata": {},
     "output_type": "execute_result"
    }
   ],
   "source": [
    "df.values"
   ]
  },
  {
   "cell_type": "code",
   "execution_count": 15,
   "id": "567fadbe-1525-4b09-9a0d-74324877cdc9",
   "metadata": {},
   "outputs": [
    {
     "data": {
      "text/plain": [
       "[Index(['a', 'b', 'c', 'd'], dtype='object'),\n",
       " Index(['x', 'y', 'z'], dtype='object')]"
      ]
     },
     "execution_count": 15,
     "metadata": {},
     "output_type": "execute_result"
    }
   ],
   "source": [
    "df.axes"
   ]
  },
  {
   "cell_type": "code",
   "execution_count": 16,
   "id": "78a93eb3-b497-49c4-bb4e-316e7d74ad81",
   "metadata": {},
   "outputs": [
    {
     "data": {
      "text/plain": [
       "2"
      ]
     },
     "execution_count": 16,
     "metadata": {},
     "output_type": "execute_result"
    }
   ],
   "source": [
    "df.ndim"
   ]
  },
  {
   "cell_type": "code",
   "execution_count": 21,
   "id": "51ff9dcc-42a0-46fb-9b14-cdf367fad281",
   "metadata": {},
   "outputs": [
    {
     "data": {
      "text/plain": [
       "(12, (4, 3))"
      ]
     },
     "execution_count": 21,
     "metadata": {},
     "output_type": "execute_result"
    }
   ],
   "source": [
    "(df.size, df.shape)"
   ]
  },
  {
   "cell_type": "code",
   "execution_count": 22,
   "id": "3e6439a7-7967-42eb-bdb7-8c33d755f690",
   "metadata": {},
   "outputs": [
    {
     "data": {
      "text/plain": [
       "False"
      ]
     },
     "execution_count": 22,
     "metadata": {},
     "output_type": "execute_result"
    }
   ],
   "source": [
    "df.empty"
   ]
  },
  {
   "cell_type": "markdown",
   "id": "d72eb55f-c537-4534-a185-8b4ec66dd644",
   "metadata": {},
   "source": [
    "```python\n",
    "'''\n",
    "打印 DataFrame 概要\n",
    " - verbose     :bool, 是否打印完整概要\n",
    " - buf         :writable buffer, 默认为 sys.stdout\n",
    " - max_cols    :int, 不显示大于 max_cols 数目的列\n",
    " - memory_usage:bool/str, 是否显示内存占用大小；指定'deep'时计算真实的内存占用，否则根据列的数据类型以及行数估计内存占用\n",
    " - show_counts :bool, 是否显示 non-null 的数目\n",
    "'''\n",
    "Dataframe.info(verbose, buf, max_cols, memory_usage, show_counts)\n",
    "```"
   ]
  },
  {
   "cell_type": "code",
   "execution_count": 35,
   "id": "d9d3ddd0-ab5e-43ca-9e75-1250f345ab27",
   "metadata": {},
   "outputs": [
    {
     "name": "stdout",
     "output_type": "stream",
     "text": [
      "========== DataFrame ==========\n",
      "   int_col text_col  float_values\n",
      "0        1    alpha          0.00\n",
      "1        2     beta          0.25\n",
      "2        3    gamma          0.50\n",
      "3        4    delta          0.75\n",
      "4        5  epsilon          1.00\n",
      "========== Info of all columns ==========\n",
      "<class 'pandas.core.frame.DataFrame'>\n",
      "RangeIndex: 5 entries, 0 to 4\n",
      "Data columns (total 3 columns):\n",
      " #   Column        Non-Null Count  Dtype  \n",
      "---  ------        --------------  -----  \n",
      " 0   int_col       5 non-null      int64  \n",
      " 1   text_col      5 non-null      object \n",
      " 2   float_values  5 non-null      float64\n",
      "dtypes: float64(1), int64(1), object(1)\n",
      "memory usage: 252.0+ bytes\n",
      "None\n",
      "========== A summary of columns count ==========\n",
      "<class 'pandas.core.frame.DataFrame'>\n",
      "RangeIndex: 5 entries, 0 to 4\n",
      "Columns: 3 entries, int_col to float_values\n",
      "dtypes: float64(1), int64(1), object(1)\n",
      "memory usage: 252.0+ bytes\n",
      "None\n",
      "========== Set \"max_cols = 1\" ==========\n",
      "<class 'pandas.core.frame.DataFrame'>\n",
      "RangeIndex: 5 entries, 0 to 4\n",
      "Data columns (total 3 columns):\n",
      " #   Column        Dtype  \n",
      "---  ------        -----  \n",
      " 0   int_col       int64  \n",
      " 1   text_col      object \n",
      " 2   float_values  float64\n",
      "dtypes: float64(1), int64(1), object(1)\n",
      "memory usage: 252.0+ bytes\n",
      "None\n",
      "========== Do not show non-null counts ==========\n",
      "<class 'pandas.core.frame.DataFrame'>\n",
      "RangeIndex: 5 entries, 0 to 4\n",
      "Data columns (total 3 columns):\n",
      " #   Column        Dtype  \n",
      "---  ------        -----  \n",
      " 0   int_col       int64  \n",
      " 1   text_col      object \n",
      " 2   float_values  float64\n",
      "dtypes: float64(1), int64(1), object(1)\n",
      "memory usage: 252.0+ bytes\n",
      "None\n",
      "========== Write info to a text file ==========\n",
      "========== Big DataFrame ==========\n",
      "<class 'pandas.core.frame.DataFrame'>\n",
      "RangeIndex: 1000000 entries, 0 to 999999\n",
      "Data columns (total 3 columns):\n",
      " #   Column    Non-Null Count    Dtype \n",
      "---  ------    --------------    ----- \n",
      " 0   column_1  1000000 non-null  object\n",
      " 1   column_2  1000000 non-null  object\n",
      " 2   column_3  1000000 non-null  object\n",
      "dtypes: object(3)\n",
      "memory usage: 22.9+ MB\n",
      "None\n",
      "========== Deep introspection mode ==========\n",
      "<class 'pandas.core.frame.DataFrame'>\n",
      "RangeIndex: 1000000 entries, 0 to 999999\n",
      "Data columns (total 3 columns):\n",
      " #   Column    Non-Null Count    Dtype \n",
      "---  ------    --------------    ----- \n",
      " 0   column_1  1000000 non-null  object\n",
      " 1   column_2  1000000 non-null  object\n",
      " 2   column_3  1000000 non-null  object\n",
      "dtypes: object(3)\n",
      "memory usage: 165.9 MB\n",
      "None\n"
     ]
    }
   ],
   "source": [
    "int_values = [1, 2, 3, 4, 5]\n",
    "text_values = ['alpha', 'beta', 'gamma', 'delta', 'epsilon']\n",
    "float_values = [0.0, 0.25, 0.5, 0.75, 1.0]\n",
    "df = pd.DataFrame({\"int_col\": int_values, \"text_col\": text_values, \"float_values\": float_values})\n",
    "\n",
    "line = \"==========\"\n",
    "print(f'{line} DataFrame {line}')\n",
    "print(df)\n",
    "\n",
    "print(f'{line} Info of all columns {line}')\n",
    "print(df.info(verbose=True))\n",
    "\n",
    "print(f'{line} A summary of columns count {line}')\n",
    "print(df.info(verbose=False))\n",
    "\n",
    "print(f'{line} Set \"max_cols = 1\" {line}')\n",
    "print(df.info(verbose=True, max_cols=1))\n",
    "\n",
    "print(f'{line} Do not show non-null counts {line}')\n",
    "print(df.info(verbose=True, show_counts=False))\n",
    "\n",
    "print(f'{line} Write info to a text file {line}')\n",
    "buffer = io.StringIO\n",
    "df.info(buf=buffer)\n",
    "s = buffer.getvalue()\n",
    "with open(\"df_info.txt\", \"w\", encoding=\"utf-8\") as f:\n",
    "    f.write(s)\n",
    "\n",
    "print(f'{line} Big DataFrame {line}')\n",
    "df = pd.DataFrame({\"column_1\": np.random.choice(['a', 'b', 'c'], 10 ** 6),\n",
    "                   \"column_2\": np.random.choice(['a', 'b', 'c'], 10 ** 6),\n",
    "                   \"column_3\": np.random.choice(['a', 'b', 'c'], 10 ** 6)})\n",
    "print(df.info())\n",
    "\n",
    "print(f'{line} Deep introspection mode {line}')\n",
    "print(df.info(memory_usage='deep'))"
   ]
  },
  {
   "cell_type": "markdown",
   "id": "7dce87af-16e7-4913-bf9c-1b3baf82c5c7",
   "metadata": {},
   "source": [
    "```python\n",
    "'''\n",
    "根据列的数据类型选择 Dataframe 的子集\n",
    "'''\n",
    "DataFrame.select_dtypes(include, exclude)\n",
    "```"
   ]
  },
  {
   "cell_type": "code",
   "execution_count": 37,
   "id": "7702bdd1-78ca-4c83-b206-e948596d62ef",
   "metadata": {},
   "outputs": [
    {
     "name": "stdout",
     "output_type": "stream",
     "text": [
      "========== DataFrame ==========\n",
      "   int_col text_col  float_values\n",
      "0        1    alpha          0.00\n",
      "1        2     beta          0.25\n",
      "2        3    gamma          0.50\n",
      "3        4    delta          0.75\n",
      "4        5  epsilon          1.00\n",
      "========== Include number ==========\n",
      "   int_col  float_values\n",
      "0        1          0.00\n",
      "1        2          0.25\n",
      "2        3          0.50\n",
      "3        4          0.75\n",
      "4        5          1.00\n",
      "========== Exclude number ==========\n",
      "  text_col\n",
      "0    alpha\n",
      "1     beta\n",
      "2    gamma\n",
      "3    delta\n",
      "4  epsilon\n"
     ]
    }
   ],
   "source": [
    "int_values = [1, 2, 3, 4, 5]\n",
    "text_values = ['alpha', 'beta', 'gamma', 'delta', 'epsilon']\n",
    "float_values = [0.0, 0.25, 0.5, 0.75, 1.0]\n",
    "df = pd.DataFrame({\"int_col\": int_values, \"text_col\": text_values, \"float_values\": float_values})\n",
    "\n",
    "print(f'{line} DataFrame {line}')\n",
    "print(df)\n",
    "\n",
    "print(f'{line} Include number {line}')\n",
    "print(df.select_dtypes(include='number'))\n",
    "\n",
    "print(f'{line} Exclude number {line}')\n",
    "print(df.select_dtypes(exclude='number'))"
   ]
  },
  {
   "cell_type": "code",
   "execution_count": null,
   "id": "78d61daf-5c85-4a15-ab97-c705e84d6e01",
   "metadata": {},
   "outputs": [],
   "source": []
  }
 ],
 "metadata": {
  "kernelspec": {
   "display_name": "Python 3 (ipykernel)",
   "language": "python",
   "name": "python3"
  },
  "language_info": {
   "codemirror_mode": {
    "name": "ipython",
    "version": 3
   },
   "file_extension": ".py",
   "mimetype": "text/x-python",
   "name": "python",
   "nbconvert_exporter": "python",
   "pygments_lexer": "ipython3",
   "version": "3.11.5"
  }
 },
 "nbformat": 4,
 "nbformat_minor": 5
}
