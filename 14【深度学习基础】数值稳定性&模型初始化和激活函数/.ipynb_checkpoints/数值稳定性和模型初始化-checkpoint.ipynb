{
 "cells": [
  {
   "cell_type": "markdown",
   "id": "438a740b-c91c-49ff-9efa-2deeccc0fe7f",
   "metadata": {},
   "source": [
    "# 数值稳定性和模型初始化\n",
    "\n",
    "初始化方案的选择在神经网络学习中起着举足轻重的作用，它对保持数值稳定性至关重要。此外，这些初始化方案的选择可以与非线性激活函数的选择有趣的结合在一起。我们选择哪个函数以及如何初始化参数可以决定优化算法收敛的速度有多快。糟糕的选择可能会导致我们在训练时遇到梯度爆炸或梯度消失。\n",
    "\n",
    "## 1. 梯度消失和梯度爆炸\n",
    "\n",
    "考虑一个具有$L$层、输入$\\mathbf{x}$和输出$\\mathbf{o}$的深层网络。\n",
    "每一层$l$由变换$f_l$定义，\n",
    "该变换的参数为权重$\\mathbf{W}^{(l)}$，\n",
    "其隐藏变量是$\\mathbf{h}^{(l)}$（令 $\\mathbf{h}^{(0)} = \\mathbf{x}$）。\n",
    "我们的网络可以表示为：\n",
    "\n",
    "$$\\mathbf{h}^{(l)} = f_l (\\mathbf{h}^{(l-1)}) \\text{ 因此 } \\mathbf{o} = f_L \\circ \\ldots \\circ f_1(\\mathbf{x}).$$\n",
    "\n",
    "如果所有隐藏变量和输入都是向量，\n",
    "我们可以将$\\mathbf{o}$关于任何一组参数$\\mathbf{W}^{(l)}$的梯度写为下式：\n",
    "\n",
    "$$\\partial_{\\mathbf{W}^{(l)}} \\mathbf{o} = \\underbrace{\\partial_{\\mathbf{h}^{(L-1)}} \\mathbf{h}^{(L)}}_{ \\mathbf{M}^{(L)} \\stackrel{\\mathrm{def}}{=}} \\cdot \\ldots \\cdot \\underbrace{\\partial_{\\mathbf{h}^{(l)}} \\mathbf{h}^{(l+1)}}_{ \\mathbf{M}^{(l+1)} \\stackrel{\\mathrm{def}}{=}} \\underbrace{\\partial_{\\mathbf{W}^{(l)}} \\mathbf{h}^{(l)}}_{ \\mathbf{v}^{(l)} \\stackrel{\\mathrm{def}}{=}}.$$\n",
    "\n",
    "换言之，该梯度是$L-l$个矩阵\n",
    "$\\mathbf{M}^{(L)} \\cdot \\ldots \\cdot \\mathbf{M}^{(l+1)}$\n",
    "与梯度向量 $\\mathbf{v}^{(l)}$的乘积。\n",
    "因此，我们容易受到数值下溢问题的影响.\n",
    "当将太多的概率乘在一起时，这些问题经常会出现。\n",
    "在处理概率时，一个常见的技巧是切换到对数空间，\n",
    "即将数值表示的压力从尾数转移到指数。\n",
    "不幸的是，上面的问题更为严重：\n",
    "最初，矩阵 $\\mathbf{M}^{(l)}$ 可能具有各种各样的特征值。\n",
    "他们可能很小，也可能很大；\n",
    "他们的乘积可能非常大，也可能非常小。\n",
    "\n",
    "不稳定梯度带来的风险不止在于数值表示；\n",
    "不稳定梯度也威胁到我们优化算法的稳定性。\n",
    "我们可能面临一些问题。\n",
    "要么是**梯度爆炸**（gradient exploding）问题：\n",
    "参数更新过大，破坏了模型的稳定收敛；\n",
    "要么是**梯度消失**（gradient vanishing）问题：\n",
    "参数更新过小，在每次更新时几乎不会移动，导致模型无法学习。"
   ]
  },
  {
   "cell_type": "code",
   "execution_count": null,
   "id": "e7a329cf-66ad-4661-af1b-70430fdaead1",
   "metadata": {},
   "outputs": [],
   "source": []
  }
 ],
 "metadata": {
  "kernelspec": {
   "display_name": "Python 3 (ipykernel)",
   "language": "python",
   "name": "python3"
  },
  "language_info": {
   "codemirror_mode": {
    "name": "ipython",
    "version": 3
   },
   "file_extension": ".py",
   "mimetype": "text/x-python",
   "name": "python",
   "nbconvert_exporter": "python",
   "pygments_lexer": "ipython3",
   "version": "3.11.5"
  }
 },
 "nbformat": 4,
 "nbformat_minor": 5
}
