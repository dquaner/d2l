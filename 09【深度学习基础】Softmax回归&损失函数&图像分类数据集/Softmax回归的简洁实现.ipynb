{
 "cells": [
  {
   "cell_type": "markdown",
   "id": "03601103-89c5-47a7-bc93-71e1dc0b33c7",
   "metadata": {},
   "source": [
    "# Softmax回归的简洁实现\n",
    "\n",
    "通过深度学习框架的高级 API 可以使实现 softmax 回归变得更容易"
   ]
  },
  {
   "cell_type": "code",
   "execution_count": 1,
   "id": "e82025d3-4682-4524-ad4e-eab3dedf6cb6",
   "metadata": {},
   "outputs": [],
   "source": [
    "import torch\n",
    "from torch import nn\n",
    "from d2l import torch as d2l\n",
    "\n",
    "batch_size = 256\n",
    "train_iter, test_iter = d2l.load_data_fashion_mnist(batch_size)"
   ]
  },
  {
   "cell_type": "markdown",
   "id": "0d92fa43-b895-41a6-aa68-035b9f607735",
   "metadata": {},
   "source": [
    "## 1. 初始化模型参数\n",
    "\n",
    "Softmax 回归的输出层是一个全连接层："
   ]
  },
  {
   "cell_type": "code",
   "execution_count": 2,
   "id": "2de28901-44ae-4837-a13d-cf3cbdd52260",
   "metadata": {},
   "outputs": [
    {
     "data": {
      "text/plain": [
       "Sequential(\n",
       "  (0): Flatten(start_dim=1, end_dim=-1)\n",
       "  (1): Linear(in_features=784, out_features=10, bias=True)\n",
       ")"
      ]
     },
     "execution_count": 2,
     "metadata": {},
     "output_type": "execute_result"
    }
   ],
   "source": [
    "# Pytorch 不会隐式地调整输入的形状。因此，\n",
    "# 我们在线性层之前定义了展平层（flatten），来调整网络输入的形状\n",
    "net = nn.Sequential(nn.Flatten(), nn.Linear(784, 10))\n",
    "\n",
    "def init_weights(m):\n",
    "    if type(m) == nn.Linear:\n",
    "        nn.init.normal_(m.weight, std=0.01)\n",
    "\n",
    "net.apply(init_weights)"
   ]
  },
  {
   "cell_type": "markdown",
   "id": "22f5de19-9432-4845-ad00-6e49bc18ac0b",
   "metadata": {},
   "source": [
    "## 2. 重新审视 Softmax 的实现\n",
    "\n",
    "在 Softmax 从零开始实现的例子中，我们计算了模型的输出，然后将此输出送入交叉熵损失。从数学上讲，这是一件完全合理的事情。然而，从计算角度来看，指数可能会造成数值稳定性问题。\n",
    "\n",
    "回想一下，softmax 函数 $\\hat y_j = \\frac{\\exp (o_j)}{\\sum_k \\exp (o_k)}$，其中 $\\hat y_j$ 是预测的概率分布，$o_j$ 是未规范化的预测 $o$ 的第 $j$ 个元素。如果$o_k$中的一些数值非常大，\n",
    "那么$\\exp(o_k)$可能大于数据类型容许的最大数字，即*上溢*（overflow）。\n",
    "这将使分母或分子变为`inf`（无穷大），\n",
    "最后得到的是0、`inf`或`nan`（不是数字）的$\\hat y_j$。\n",
    "在这些情况下，我们无法得到一个明确定义的交叉熵值。\n",
    "\n",
    "解决这个问题的一个技巧是：\n",
    "在继续softmax计算之前，先从所有$o_k$中减去$\\max(o_k)$。\n",
    "这里可以看到每个$o_k$按常数进行的移动不会改变softmax的返回值：\n",
    "\n",
    "$$\n",
    "\\begin{aligned}\n",
    "\\hat y_j & =  \\frac{\\exp(o_j - \\max(o_k))\\exp(\\max(o_k))}{\\sum_k \\exp(o_k - \\max(o_k))\\exp(\\max(o_k))} \\\\\n",
    "& = \\frac{\\exp(o_j - \\max(o_k))}{\\sum_k \\exp(o_k - \\max(o_k))}.\n",
    "\\end{aligned}\n",
    "$$\n",
    "\n",
    "\n",
    "在减法和规范化步骤之后，可能有些$o_j - \\max(o_k)$具有较大的负值。\n",
    "由于精度受限，$\\exp(o_j - \\max(o_k))$将有接近零的值，即*下溢*（underflow）。\n",
    "这些值可能会四舍五入为零，使$\\hat y_j$为零，\n",
    "并且使得$\\log(\\hat y_j)$的值为`-inf`。\n",
    "反向传播几步后，我们可能会发现自己面对一屏幕可怕的`nan`结果。\n",
    "\n",
    "尽管我们要计算指数函数，但我们最终在计算交叉熵损失时会取它们的对数。\n",
    "通过将softmax和交叉熵结合在一起，可以避免反向传播过程中可能会困扰我们的数值稳定性问题。\n",
    "如下面的等式所示，我们避免计算$\\exp(o_j - \\max(o_k))$，\n",
    "而可以直接使用$o_j - \\max(o_k)$，因为$\\log(\\exp(\\cdot))$被抵消了。\n",
    "\n",
    "$$\n",
    "\\begin{aligned}\n",
    "\\log{(\\hat y_j)} & = \\log\\left( \\frac{\\exp(o_j - \\max(o_k))}{\\sum_k \\exp(o_k - \\max(o_k))}\\right) \\\\\n",
    "& = \\log{(\\exp(o_j - \\max(o_k)))}-\\log{\\left( \\sum_k \\exp(o_k - \\max(o_k)) \\right)} \\\\\n",
    "& = o_j - \\max(o_k) -\\log{\\left( \\sum_k \\exp(o_k - \\max(o_k)) \\right)}.\n",
    "\\end{aligned}\n",
    "$$\n",
    "\n",
    "我们也希望保留传统的softmax函数，以备我们需要评估通过模型输出的概率。\n",
    "但是，我们没有将softmax概率传递到损失函数中，\n",
    "而是[**在交叉熵损失函数中传递未规范化的预测，并同时计算softmax及其对数**]，\n",
    "这是一种类似[\"LogSumExp技巧\"](https://en.wikipedia.org/wiki/LogSumExp)的聪明方式。"
   ]
  },
  {
   "cell_type": "code",
   "execution_count": 3,
   "id": "13e295af-ba6f-4424-87e2-6444a0c51900",
   "metadata": {},
   "outputs": [],
   "source": [
    "loss = nn.CrossEntropyLoss(reduction='none')"
   ]
  },
  {
   "cell_type": "markdown",
   "id": "8654acff-7570-4686-b927-75775ebdc93a",
   "metadata": {},
   "source": [
    "## 3. 优化算法\n",
    "\n",
    "在这里，我们(**使用学习率为0.1的小批量随机梯度下降作为优化算法**)。\n",
    "这与我们在线性回归例子中的相同，这说明了优化器的普适性。"
   ]
  },
  {
   "cell_type": "code",
   "execution_count": 4,
   "id": "5ab94a85-ab7f-43d3-bf45-88d68bc3e075",
   "metadata": {},
   "outputs": [],
   "source": [
    "trainer = torch.optim.SGD(net.parameters(), lr=0.1)"
   ]
  },
  {
   "cell_type": "markdown",
   "id": "7c1e4704-1bd5-490b-90e4-6c021e74e8f9",
   "metadata": {},
   "source": [
    "## 4. 训练\n",
    "\n",
    "调用之前定义的训练函数来训练模型："
   ]
  },
  {
   "cell_type": "code",
   "execution_count": 5,
   "id": "5fd7a791-4c09-4301-9fbc-4686b57f7fb8",
   "metadata": {},
   "outputs": [
    {
     "ename": "AttributeError",
     "evalue": "module 'd2l.torch' has no attribute 'train_ch3'",
     "output_type": "error",
     "traceback": [
      "\u001b[0;31m---------------------------------------------------------------------------\u001b[0m",
      "\u001b[0;31mAttributeError\u001b[0m                            Traceback (most recent call last)",
      "Cell \u001b[0;32mIn[5], line 2\u001b[0m\n\u001b[1;32m      1\u001b[0m num_epochs \u001b[38;5;241m=\u001b[39m \u001b[38;5;241m10\u001b[39m\n\u001b[0;32m----> 2\u001b[0m \u001b[43md2l\u001b[49m\u001b[38;5;241;43m.\u001b[39;49m\u001b[43mtrain_ch3\u001b[49m(net, train_iter, test_iter, loss, num_epochs, trainer)\n",
      "\u001b[0;31mAttributeError\u001b[0m: module 'd2l.torch' has no attribute 'train_ch3'"
     ]
    }
   ],
   "source": [
    "num_epochs = 10\n",
    "d2l.train_ch3(net, train_iter, test_iter, loss, num_epochs, trainer)"
   ]
  },
  {
   "cell_type": "markdown",
   "id": "0a7832c1-98ab-4135-968f-c3cd5a9ce25a",
   "metadata": {},
   "source": [
    "## 5. 小结\n",
    "\n",
    "- 使用深度学习框架中的高级 API，我们可以更简洁地实现 softmax 回归。\n",
    "- 从计算的角度来看，实现 softmax 回归比较复杂。在许多情况下，深度学习框架在这些著名的技巧之外采取了额外的预防措施，来确保数值的稳定性。这使我们避免了在实践中从零开始编写模型时可能遇到的陷阱。"
   ]
  },
  {
   "cell_type": "markdown",
   "id": "508dcc23-b741-40ab-b642-ee6a9af73b06",
   "metadata": {},
   "source": [
    "## Q & A\n",
    "\n",
    "1. softlabel 训练策略\n",
    "\n",
    "   使用 softmax 的指数计算很难逼近一位有效表示的 1，softlabel 将真实类记为 0.9，其他类记为 0.1 / n，这是图片分类中一个默认的常用技巧。\n",
    "\n",
    "2. softmax 回归和 logistics 回归的区别\n",
    "\n",
    "   logistics 实际上只输出，可以认为 logistics 是 softmax 两分类的特例。\n",
    "\n",
    "3. 为什么使用交叉熵？\n",
    "\n",
    "   相对熵比交叉熵的好处是它是对称的，但计算起来比较复杂。\n",
    "\n",
    "4. 似然函数？\n",
    "\n",
    "   最小化损失，等价于最大化似然函数。"
   ]
  },
  {
   "cell_type": "code",
   "execution_count": null,
   "id": "66716efb-911a-475c-bd04-a9fad2256b8d",
   "metadata": {},
   "outputs": [],
   "source": []
  }
 ],
 "metadata": {
  "kernelspec": {
   "display_name": "Python 3 (ipykernel)",
   "language": "python",
   "name": "python3"
  },
  "language_info": {
   "codemirror_mode": {
    "name": "ipython",
    "version": 3
   },
   "file_extension": ".py",
   "mimetype": "text/x-python",
   "name": "python",
   "nbconvert_exporter": "python",
   "pygments_lexer": "ipython3",
   "version": "3.11.5"
  }
 },
 "nbformat": 4,
 "nbformat_minor": 5
}
