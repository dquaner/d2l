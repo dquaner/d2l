{
 "cells": [
  {
   "cell_type": "markdown",
   "id": "03601103-89c5-47a7-bc93-71e1dc0b33c7",
   "metadata": {},
   "source": [
    "# Softmax回归的简洁实现\n",
    "\n",
    "通过深度学习框架的高级 API 可以使实现 softmax 回归变得更容易"
   ]
  },
  {
   "cell_type": "code",
   "execution_count": 2,
   "id": "e82025d3-4682-4524-ad4e-eab3dedf6cb6",
   "metadata": {},
   "outputs": [],
   "source": [
    "import torch\n",
    "from torch import nn\n",
    "from d2l import torch as d2l\n",
    "\n",
    "batch_size = 256\n",
    "train_iter, test_iter = d2l.load_data_fashion_mnist(batch_size)"
   ]
  },
  {
   "cell_type": "markdown",
   "id": "0d92fa43-b895-41a6-aa68-035b9f607735",
   "metadata": {},
   "source": [
    "## 1. 初始化模型参数\n",
    "\n",
    "Softmax 回归的输出层是一个全连接层："
   ]
  },
  {
   "cell_type": "code",
   "execution_count": null,
   "id": "2de28901-44ae-4837-a13d-cf3cbdd52260",
   "metadata": {},
   "outputs": [],
   "source": [
    "# Pytorch 不会隐式地调整输入的形状。因此，\n",
    "# 我们在线性层之前定义了展平层（flatten），来调整网络输入的形状\n",
    "net = nn.Sequential(nn.Flatten(), nn.Linear(784, 10))"
   ]
  }
 ],
 "metadata": {
  "kernelspec": {
   "display_name": "Python 3 (ipykernel)",
   "language": "python",
   "name": "python3"
  },
  "language_info": {
   "codemirror_mode": {
    "name": "ipython",
    "version": 3
   },
   "file_extension": ".py",
   "mimetype": "text/x-python",
   "name": "python",
   "nbconvert_exporter": "python",
   "pygments_lexer": "ipython3",
   "version": "3.11.5"
  }
 },
 "nbformat": 4,
 "nbformat_minor": 5
}
