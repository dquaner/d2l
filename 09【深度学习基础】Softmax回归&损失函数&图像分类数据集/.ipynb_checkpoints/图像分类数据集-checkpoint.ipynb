{
 "cells": [
  {
   "cell_type": "markdown",
   "id": "0ce8d6b5-152d-4486-b282-0481c4292aee",
   "metadata": {},
   "source": [
    "# 图像分类数据集"
   ]
  },
  {
   "cell_type": "code",
   "execution_count": null,
   "id": "b756fd05-dfcb-4397-b1b0-f2174cedca47",
   "metadata": {},
   "outputs": [],
   "source": []
  }
 ],
 "metadata": {
  "kernelspec": {
   "display_name": "Python 3 (ipykernel)",
   "language": "python",
   "name": "python3"
  },
  "language_info": {
   "codemirror_mode": {
    "name": "ipython",
    "version": 3
   },
   "file_extension": ".py",
   "mimetype": "text/x-python",
   "name": "python",
   "nbconvert_exporter": "python",
   "pygments_lexer": "ipython3",
   "version": "3.11.5"
  }
 },
 "nbformat": 4,
 "nbformat_minor": 5
}
